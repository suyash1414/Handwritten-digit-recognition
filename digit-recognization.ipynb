{
 "cells": [
  {
   "cell_type": "markdown",
   "id": "b472fc48",
   "metadata": {
    "papermill": {
     "duration": 0.012458,
     "end_time": "2022-06-23T12:31:59.235956",
     "exception": false,
     "start_time": "2022-06-23T12:31:59.223498",
     "status": "completed"
    },
    "tags": []
   },
   "source": [
    "# Importing required libraries"
   ]
  },
  {
   "cell_type": "code",
   "execution_count": 1,
   "id": "17665ea6",
   "metadata": {
    "execution": {
     "iopub.execute_input": "2022-06-23T12:31:59.263072Z",
     "iopub.status.busy": "2022-06-23T12:31:59.262271Z",
     "iopub.status.idle": "2022-06-23T12:32:07.115123Z",
     "shell.execute_reply": "2022-06-23T12:32:07.114041Z"
    },
    "papermill": {
     "duration": 7.86906,
     "end_time": "2022-06-23T12:32:07.117668",
     "exception": false,
     "start_time": "2022-06-23T12:31:59.248608",
     "status": "completed"
    },
    "tags": []
   },
   "outputs": [],
   "source": [
    "import numpy as np \n",
    "import pandas as pd\n",
    "import tensorflow as tf\n",
    "from keras.models import Sequential\n",
    "from keras.layers import Dense, Conv2D, MaxPool2D, Flatten, Dropout\n",
    "from sklearn.model_selection import train_test_split\n",
    "import matplotlib.pyplot as plt\n",
    "from keras.callbacks import EarlyStopping"
   ]
  },
  {
   "cell_type": "markdown",
   "id": "f983b6a6",
   "metadata": {
    "papermill": {
     "duration": 0.011358,
     "end_time": "2022-06-23T12:32:07.141086",
     "exception": false,
     "start_time": "2022-06-23T12:32:07.129728",
     "status": "completed"
    },
    "tags": []
   },
   "source": [
    "# Reading Data"
   ]
  },
  {
   "cell_type": "code",
   "execution_count": 2,
   "id": "5e945ac7",
   "metadata": {
    "execution": {
     "iopub.execute_input": "2022-06-23T12:32:07.166446Z",
     "iopub.status.busy": "2022-06-23T12:32:07.165813Z",
     "iopub.status.idle": "2022-06-23T12:32:11.144002Z",
     "shell.execute_reply": "2022-06-23T12:32:11.142795Z"
    },
    "papermill": {
     "duration": 3.99365,
     "end_time": "2022-06-23T12:32:11.146441",
     "exception": false,
     "start_time": "2022-06-23T12:32:07.152791",
     "status": "completed"
    },
    "tags": []
   },
   "outputs": [],
   "source": [
    "train_df = pd.read_csv(\"train.csv\")"
   ]
  },
  {
   "cell_type": "code",
   "execution_count": 3,
   "id": "93aa237c",
   "metadata": {
    "execution": {
     "iopub.execute_input": "2022-06-23T12:32:11.171610Z",
     "iopub.status.busy": "2022-06-23T12:32:11.171221Z",
     "iopub.status.idle": "2022-06-23T12:32:13.390899Z",
     "shell.execute_reply": "2022-06-23T12:32:13.389896Z"
    },
    "papermill": {
     "duration": 2.235272,
     "end_time": "2022-06-23T12:32:13.393334",
     "exception": false,
     "start_time": "2022-06-23T12:32:11.158062",
     "status": "completed"
    },
    "tags": []
   },
   "outputs": [],
   "source": [
    "test_df = pd.read_csv(\"test.csv\")"
   ]
  },
  {
   "cell_type": "code",
   "execution_count": 4,
   "id": "8250a3ea",
   "metadata": {
    "execution": {
     "iopub.execute_input": "2022-06-23T12:32:13.419114Z",
     "iopub.status.busy": "2022-06-23T12:32:13.418466Z",
     "iopub.status.idle": "2022-06-23T12:32:13.458642Z",
     "shell.execute_reply": "2022-06-23T12:32:13.457284Z"
    },
    "papermill": {
     "duration": 0.056677,
     "end_time": "2022-06-23T12:32:13.461762",
     "exception": false,
     "start_time": "2022-06-23T12:32:13.405085",
     "status": "completed"
    },
    "tags": []
   },
   "outputs": [
    {
     "data": {
      "text/html": [
       "<div>\n",
       "<style scoped>\n",
       "    .dataframe tbody tr th:only-of-type {\n",
       "        vertical-align: middle;\n",
       "    }\n",
       "\n",
       "    .dataframe tbody tr th {\n",
       "        vertical-align: top;\n",
       "    }\n",
       "\n",
       "    .dataframe thead th {\n",
       "        text-align: right;\n",
       "    }\n",
       "</style>\n",
       "<table border=\"1\" class=\"dataframe\">\n",
       "  <thead>\n",
       "    <tr style=\"text-align: right;\">\n",
       "      <th></th>\n",
       "      <th>label</th>\n",
       "      <th>pixel0</th>\n",
       "      <th>pixel1</th>\n",
       "      <th>pixel2</th>\n",
       "      <th>pixel3</th>\n",
       "      <th>pixel4</th>\n",
       "      <th>pixel5</th>\n",
       "      <th>pixel6</th>\n",
       "      <th>pixel7</th>\n",
       "      <th>pixel8</th>\n",
       "      <th>...</th>\n",
       "      <th>pixel774</th>\n",
       "      <th>pixel775</th>\n",
       "      <th>pixel776</th>\n",
       "      <th>pixel777</th>\n",
       "      <th>pixel778</th>\n",
       "      <th>pixel779</th>\n",
       "      <th>pixel780</th>\n",
       "      <th>pixel781</th>\n",
       "      <th>pixel782</th>\n",
       "      <th>pixel783</th>\n",
       "    </tr>\n",
       "  </thead>\n",
       "  <tbody>\n",
       "    <tr>\n",
       "      <th>0</th>\n",
       "      <td>1</td>\n",
       "      <td>0</td>\n",
       "      <td>0</td>\n",
       "      <td>0</td>\n",
       "      <td>0</td>\n",
       "      <td>0</td>\n",
       "      <td>0</td>\n",
       "      <td>0</td>\n",
       "      <td>0</td>\n",
       "      <td>0</td>\n",
       "      <td>...</td>\n",
       "      <td>0</td>\n",
       "      <td>0</td>\n",
       "      <td>0</td>\n",
       "      <td>0</td>\n",
       "      <td>0</td>\n",
       "      <td>0</td>\n",
       "      <td>0</td>\n",
       "      <td>0</td>\n",
       "      <td>0</td>\n",
       "      <td>0</td>\n",
       "    </tr>\n",
       "    <tr>\n",
       "      <th>1</th>\n",
       "      <td>0</td>\n",
       "      <td>0</td>\n",
       "      <td>0</td>\n",
       "      <td>0</td>\n",
       "      <td>0</td>\n",
       "      <td>0</td>\n",
       "      <td>0</td>\n",
       "      <td>0</td>\n",
       "      <td>0</td>\n",
       "      <td>0</td>\n",
       "      <td>...</td>\n",
       "      <td>0</td>\n",
       "      <td>0</td>\n",
       "      <td>0</td>\n",
       "      <td>0</td>\n",
       "      <td>0</td>\n",
       "      <td>0</td>\n",
       "      <td>0</td>\n",
       "      <td>0</td>\n",
       "      <td>0</td>\n",
       "      <td>0</td>\n",
       "    </tr>\n",
       "    <tr>\n",
       "      <th>2</th>\n",
       "      <td>1</td>\n",
       "      <td>0</td>\n",
       "      <td>0</td>\n",
       "      <td>0</td>\n",
       "      <td>0</td>\n",
       "      <td>0</td>\n",
       "      <td>0</td>\n",
       "      <td>0</td>\n",
       "      <td>0</td>\n",
       "      <td>0</td>\n",
       "      <td>...</td>\n",
       "      <td>0</td>\n",
       "      <td>0</td>\n",
       "      <td>0</td>\n",
       "      <td>0</td>\n",
       "      <td>0</td>\n",
       "      <td>0</td>\n",
       "      <td>0</td>\n",
       "      <td>0</td>\n",
       "      <td>0</td>\n",
       "      <td>0</td>\n",
       "    </tr>\n",
       "    <tr>\n",
       "      <th>3</th>\n",
       "      <td>4</td>\n",
       "      <td>0</td>\n",
       "      <td>0</td>\n",
       "      <td>0</td>\n",
       "      <td>0</td>\n",
       "      <td>0</td>\n",
       "      <td>0</td>\n",
       "      <td>0</td>\n",
       "      <td>0</td>\n",
       "      <td>0</td>\n",
       "      <td>...</td>\n",
       "      <td>0</td>\n",
       "      <td>0</td>\n",
       "      <td>0</td>\n",
       "      <td>0</td>\n",
       "      <td>0</td>\n",
       "      <td>0</td>\n",
       "      <td>0</td>\n",
       "      <td>0</td>\n",
       "      <td>0</td>\n",
       "      <td>0</td>\n",
       "    </tr>\n",
       "    <tr>\n",
       "      <th>4</th>\n",
       "      <td>0</td>\n",
       "      <td>0</td>\n",
       "      <td>0</td>\n",
       "      <td>0</td>\n",
       "      <td>0</td>\n",
       "      <td>0</td>\n",
       "      <td>0</td>\n",
       "      <td>0</td>\n",
       "      <td>0</td>\n",
       "      <td>0</td>\n",
       "      <td>...</td>\n",
       "      <td>0</td>\n",
       "      <td>0</td>\n",
       "      <td>0</td>\n",
       "      <td>0</td>\n",
       "      <td>0</td>\n",
       "      <td>0</td>\n",
       "      <td>0</td>\n",
       "      <td>0</td>\n",
       "      <td>0</td>\n",
       "      <td>0</td>\n",
       "    </tr>\n",
       "    <tr>\n",
       "      <th>...</th>\n",
       "      <td>...</td>\n",
       "      <td>...</td>\n",
       "      <td>...</td>\n",
       "      <td>...</td>\n",
       "      <td>...</td>\n",
       "      <td>...</td>\n",
       "      <td>...</td>\n",
       "      <td>...</td>\n",
       "      <td>...</td>\n",
       "      <td>...</td>\n",
       "      <td>...</td>\n",
       "      <td>...</td>\n",
       "      <td>...</td>\n",
       "      <td>...</td>\n",
       "      <td>...</td>\n",
       "      <td>...</td>\n",
       "      <td>...</td>\n",
       "      <td>...</td>\n",
       "      <td>...</td>\n",
       "      <td>...</td>\n",
       "      <td>...</td>\n",
       "    </tr>\n",
       "    <tr>\n",
       "      <th>41995</th>\n",
       "      <td>0</td>\n",
       "      <td>0</td>\n",
       "      <td>0</td>\n",
       "      <td>0</td>\n",
       "      <td>0</td>\n",
       "      <td>0</td>\n",
       "      <td>0</td>\n",
       "      <td>0</td>\n",
       "      <td>0</td>\n",
       "      <td>0</td>\n",
       "      <td>...</td>\n",
       "      <td>0</td>\n",
       "      <td>0</td>\n",
       "      <td>0</td>\n",
       "      <td>0</td>\n",
       "      <td>0</td>\n",
       "      <td>0</td>\n",
       "      <td>0</td>\n",
       "      <td>0</td>\n",
       "      <td>0</td>\n",
       "      <td>0</td>\n",
       "    </tr>\n",
       "    <tr>\n",
       "      <th>41996</th>\n",
       "      <td>1</td>\n",
       "      <td>0</td>\n",
       "      <td>0</td>\n",
       "      <td>0</td>\n",
       "      <td>0</td>\n",
       "      <td>0</td>\n",
       "      <td>0</td>\n",
       "      <td>0</td>\n",
       "      <td>0</td>\n",
       "      <td>0</td>\n",
       "      <td>...</td>\n",
       "      <td>0</td>\n",
       "      <td>0</td>\n",
       "      <td>0</td>\n",
       "      <td>0</td>\n",
       "      <td>0</td>\n",
       "      <td>0</td>\n",
       "      <td>0</td>\n",
       "      <td>0</td>\n",
       "      <td>0</td>\n",
       "      <td>0</td>\n",
       "    </tr>\n",
       "    <tr>\n",
       "      <th>41997</th>\n",
       "      <td>7</td>\n",
       "      <td>0</td>\n",
       "      <td>0</td>\n",
       "      <td>0</td>\n",
       "      <td>0</td>\n",
       "      <td>0</td>\n",
       "      <td>0</td>\n",
       "      <td>0</td>\n",
       "      <td>0</td>\n",
       "      <td>0</td>\n",
       "      <td>...</td>\n",
       "      <td>0</td>\n",
       "      <td>0</td>\n",
       "      <td>0</td>\n",
       "      <td>0</td>\n",
       "      <td>0</td>\n",
       "      <td>0</td>\n",
       "      <td>0</td>\n",
       "      <td>0</td>\n",
       "      <td>0</td>\n",
       "      <td>0</td>\n",
       "    </tr>\n",
       "    <tr>\n",
       "      <th>41998</th>\n",
       "      <td>6</td>\n",
       "      <td>0</td>\n",
       "      <td>0</td>\n",
       "      <td>0</td>\n",
       "      <td>0</td>\n",
       "      <td>0</td>\n",
       "      <td>0</td>\n",
       "      <td>0</td>\n",
       "      <td>0</td>\n",
       "      <td>0</td>\n",
       "      <td>...</td>\n",
       "      <td>0</td>\n",
       "      <td>0</td>\n",
       "      <td>0</td>\n",
       "      <td>0</td>\n",
       "      <td>0</td>\n",
       "      <td>0</td>\n",
       "      <td>0</td>\n",
       "      <td>0</td>\n",
       "      <td>0</td>\n",
       "      <td>0</td>\n",
       "    </tr>\n",
       "    <tr>\n",
       "      <th>41999</th>\n",
       "      <td>9</td>\n",
       "      <td>0</td>\n",
       "      <td>0</td>\n",
       "      <td>0</td>\n",
       "      <td>0</td>\n",
       "      <td>0</td>\n",
       "      <td>0</td>\n",
       "      <td>0</td>\n",
       "      <td>0</td>\n",
       "      <td>0</td>\n",
       "      <td>...</td>\n",
       "      <td>0</td>\n",
       "      <td>0</td>\n",
       "      <td>0</td>\n",
       "      <td>0</td>\n",
       "      <td>0</td>\n",
       "      <td>0</td>\n",
       "      <td>0</td>\n",
       "      <td>0</td>\n",
       "      <td>0</td>\n",
       "      <td>0</td>\n",
       "    </tr>\n",
       "  </tbody>\n",
       "</table>\n",
       "<p>42000 rows × 785 columns</p>\n",
       "</div>"
      ],
      "text/plain": [
       "       label  pixel0  pixel1  pixel2  pixel3  pixel4  pixel5  pixel6  pixel7  \\\n",
       "0          1       0       0       0       0       0       0       0       0   \n",
       "1          0       0       0       0       0       0       0       0       0   \n",
       "2          1       0       0       0       0       0       0       0       0   \n",
       "3          4       0       0       0       0       0       0       0       0   \n",
       "4          0       0       0       0       0       0       0       0       0   \n",
       "...      ...     ...     ...     ...     ...     ...     ...     ...     ...   \n",
       "41995      0       0       0       0       0       0       0       0       0   \n",
       "41996      1       0       0       0       0       0       0       0       0   \n",
       "41997      7       0       0       0       0       0       0       0       0   \n",
       "41998      6       0       0       0       0       0       0       0       0   \n",
       "41999      9       0       0       0       0       0       0       0       0   \n",
       "\n",
       "       pixel8  ...  pixel774  pixel775  pixel776  pixel777  pixel778  \\\n",
       "0           0  ...         0         0         0         0         0   \n",
       "1           0  ...         0         0         0         0         0   \n",
       "2           0  ...         0         0         0         0         0   \n",
       "3           0  ...         0         0         0         0         0   \n",
       "4           0  ...         0         0         0         0         0   \n",
       "...       ...  ...       ...       ...       ...       ...       ...   \n",
       "41995       0  ...         0         0         0         0         0   \n",
       "41996       0  ...         0         0         0         0         0   \n",
       "41997       0  ...         0         0         0         0         0   \n",
       "41998       0  ...         0         0         0         0         0   \n",
       "41999       0  ...         0         0         0         0         0   \n",
       "\n",
       "       pixel779  pixel780  pixel781  pixel782  pixel783  \n",
       "0             0         0         0         0         0  \n",
       "1             0         0         0         0         0  \n",
       "2             0         0         0         0         0  \n",
       "3             0         0         0         0         0  \n",
       "4             0         0         0         0         0  \n",
       "...         ...       ...       ...       ...       ...  \n",
       "41995         0         0         0         0         0  \n",
       "41996         0         0         0         0         0  \n",
       "41997         0         0         0         0         0  \n",
       "41998         0         0         0         0         0  \n",
       "41999         0         0         0         0         0  \n",
       "\n",
       "[42000 rows x 785 columns]"
      ]
     },
     "execution_count": 4,
     "metadata": {},
     "output_type": "execute_result"
    }
   ],
   "source": [
    "train_df"
   ]
  },
  {
   "cell_type": "markdown",
   "id": "28014278",
   "metadata": {
    "papermill": {
     "duration": 0.012883,
     "end_time": "2022-06-23T12:32:13.486859",
     "exception": false,
     "start_time": "2022-06-23T12:32:13.473976",
     "status": "completed"
    },
    "tags": []
   },
   "source": [
    "# checking the shape of training and testing data.\n",
    "\n",
    "training data contains 42000 samples of images i.e rows and 785 columns\n",
    "testing data contains 28000 samples of images i.e rows and 784 columns"
   ]
  },
  {
   "cell_type": "code",
   "execution_count": 5,
   "id": "f7990375",
   "metadata": {
    "execution": {
     "iopub.execute_input": "2022-06-23T12:32:13.513758Z",
     "iopub.status.busy": "2022-06-23T12:32:13.512843Z",
     "iopub.status.idle": "2022-06-23T12:32:13.519515Z",
     "shell.execute_reply": "2022-06-23T12:32:13.518118Z"
    },
    "papermill": {
     "duration": 0.022425,
     "end_time": "2022-06-23T12:32:13.521732",
     "exception": false,
     "start_time": "2022-06-23T12:32:13.499307",
     "status": "completed"
    },
    "tags": []
   },
   "outputs": [
    {
     "name": "stdout",
     "output_type": "stream",
     "text": [
      "training data: (42000, 785)\n",
      "testing data: (28000, 784)\n"
     ]
    }
   ],
   "source": [
    "print(\"training data:\",train_df.shape)    \n",
    "print(\"testing data:\",test_df.shape)"
   ]
  },
  {
   "cell_type": "markdown",
   "id": "58fff1c8",
   "metadata": {
    "papermill": {
     "duration": 0.012412,
     "end_time": "2022-06-23T12:32:13.546338",
     "exception": false,
     "start_time": "2022-06-23T12:32:13.533926",
     "status": "completed"
    },
    "tags": []
   },
   "source": [
    "# Splitting Data into training and testing set"
   ]
  },
  {
   "cell_type": "markdown",
   "id": "8b713a2d",
   "metadata": {
    "papermill": {
     "duration": 0.011807,
     "end_time": "2022-06-23T12:32:13.571011",
     "exception": false,
     "start_time": "2022-06-23T12:32:13.559204",
     "status": "completed"
    },
    "tags": []
   },
   "source": [
    "dividing training data in X and y variable"
   ]
  },
  {
   "cell_type": "code",
   "execution_count": 6,
   "id": "56bf6a4d",
   "metadata": {
    "execution": {
     "iopub.execute_input": "2022-06-23T12:32:13.597529Z",
     "iopub.status.busy": "2022-06-23T12:32:13.596302Z",
     "iopub.status.idle": "2022-06-23T12:32:13.602461Z",
     "shell.execute_reply": "2022-06-23T12:32:13.601709Z"
    },
    "papermill": {
     "duration": 0.021423,
     "end_time": "2022-06-23T12:32:13.604410",
     "exception": false,
     "start_time": "2022-06-23T12:32:13.582987",
     "status": "completed"
    },
    "tags": []
   },
   "outputs": [],
   "source": [
    "X = train_df.iloc[:,1:].values\n",
    "y = train_df.iloc[:,0].values\n",
    "test_df = test_df.values"
   ]
  },
  {
   "cell_type": "markdown",
   "id": "f8e6f395",
   "metadata": {
    "papermill": {
     "duration": 0.012096,
     "end_time": "2022-06-23T12:32:13.628437",
     "exception": false,
     "start_time": "2022-06-23T12:32:13.616341",
     "status": "completed"
    },
    "tags": []
   },
   "source": [
    "Checking shapes of X and y"
   ]
  },
  {
   "cell_type": "code",
   "execution_count": 7,
   "id": "3e9cfa5c",
   "metadata": {
    "execution": {
     "iopub.execute_input": "2022-06-23T12:32:13.654460Z",
     "iopub.status.busy": "2022-06-23T12:32:13.653993Z",
     "iopub.status.idle": "2022-06-23T12:32:13.660571Z",
     "shell.execute_reply": "2022-06-23T12:32:13.658879Z"
    },
    "papermill": {
     "duration": 0.022472,
     "end_time": "2022-06-23T12:32:13.662773",
     "exception": false,
     "start_time": "2022-06-23T12:32:13.640301",
     "status": "completed"
    },
    "tags": []
   },
   "outputs": [
    {
     "name": "stdout",
     "output_type": "stream",
     "text": [
      "(42000, 784)\n",
      "(42000,)\n",
      "(28000, 784)\n"
     ]
    }
   ],
   "source": [
    "print(X.shape)\n",
    "print(y.shape)\n",
    "print(test_df.shape)"
   ]
  },
  {
   "cell_type": "markdown",
   "id": "185f44a4",
   "metadata": {
    "papermill": {
     "duration": 0.012267,
     "end_time": "2022-06-23T12:32:13.687133",
     "exception": false,
     "start_time": "2022-06-23T12:32:13.674866",
     "status": "completed"
    },
    "tags": []
   },
   "source": [
    "Currently data is in the range of (0,255), for better perfomance of our neural network model we have to scale the data from range of (0,255) to (0,1).\n",
    "to scale the data we divide each pixel by 255"
   ]
  },
  {
   "cell_type": "code",
   "execution_count": 8,
   "id": "ab842715",
   "metadata": {
    "execution": {
     "iopub.execute_input": "2022-06-23T12:32:13.714922Z",
     "iopub.status.busy": "2022-06-23T12:32:13.713907Z",
     "iopub.status.idle": "2022-06-23T12:32:14.037738Z",
     "shell.execute_reply": "2022-06-23T12:32:14.036814Z"
    },
    "papermill": {
     "duration": 0.340236,
     "end_time": "2022-06-23T12:32:14.040100",
     "exception": false,
     "start_time": "2022-06-23T12:32:13.699864",
     "status": "completed"
    },
    "tags": []
   },
   "outputs": [],
   "source": [
    "X = X / 255\n",
    "test_df = test_df / 255"
   ]
  },
  {
   "cell_type": "markdown",
   "id": "68004bab",
   "metadata": {
    "papermill": {
     "duration": 0.013346,
     "end_time": "2022-06-23T12:32:14.066384",
     "exception": false,
     "start_time": "2022-06-23T12:32:14.053038",
     "status": "completed"
    },
    "tags": []
   },
   "source": [
    "using train test split for splitting data in X_train, X_test, y_train, y_test"
   ]
  },
  {
   "cell_type": "code",
   "execution_count": 9,
   "id": "73cc8b5f",
   "metadata": {
    "execution": {
     "iopub.execute_input": "2022-06-23T12:32:14.093770Z",
     "iopub.status.busy": "2022-06-23T12:32:14.092990Z",
     "iopub.status.idle": "2022-06-23T12:32:14.672655Z",
     "shell.execute_reply": "2022-06-23T12:32:14.671805Z"
    },
    "papermill": {
     "duration": 0.596387,
     "end_time": "2022-06-23T12:32:14.675132",
     "exception": false,
     "start_time": "2022-06-23T12:32:14.078745",
     "status": "completed"
    },
    "tags": []
   },
   "outputs": [],
   "source": [
    "X_train, X_test, y_train, y_test = train_test_split(X, y, test_size=0.25, random_state=42)"
   ]
  },
  {
   "cell_type": "markdown",
   "id": "49cbd62f",
   "metadata": {
    "papermill": {
     "duration": 0.012833,
     "end_time": "2022-06-23T12:32:14.701089",
     "exception": false,
     "start_time": "2022-06-23T12:32:14.688256",
     "status": "completed"
    },
    "tags": []
   },
   "source": [
    "checking shapes of all"
   ]
  },
  {
   "cell_type": "code",
   "execution_count": 10,
   "id": "16f15382",
   "metadata": {
    "execution": {
     "iopub.execute_input": "2022-06-23T12:32:14.728911Z",
     "iopub.status.busy": "2022-06-23T12:32:14.728223Z",
     "iopub.status.idle": "2022-06-23T12:32:14.733274Z",
     "shell.execute_reply": "2022-06-23T12:32:14.732602Z"
    },
    "papermill": {
     "duration": 0.022234,
     "end_time": "2022-06-23T12:32:14.735855",
     "exception": false,
     "start_time": "2022-06-23T12:32:14.713621",
     "status": "completed"
    },
    "tags": []
   },
   "outputs": [
    {
     "name": "stdout",
     "output_type": "stream",
     "text": [
      "X_train: (31500, 784)\n",
      "X_test: (10500, 784)\n",
      "y_train: (31500,)\n",
      "y_test: (10500,)\n"
     ]
    }
   ],
   "source": [
    "print(\"X_train:\",X_train.shape)\n",
    "print(\"X_test:\",X_test.shape)\n",
    "print(\"y_train:\",y_train.shape)\n",
    "print(\"y_test:\",y_test.shape)"
   ]
  },
  {
   "cell_type": "markdown",
   "id": "c5c46f28",
   "metadata": {
    "papermill": {
     "duration": 0.013024,
     "end_time": "2022-06-23T12:32:14.761577",
     "exception": false,
     "start_time": "2022-06-23T12:32:14.748553",
     "status": "completed"
    },
    "tags": []
   },
   "source": [
    "pixels of images are not in correct shape. Dataset contains 28 X 28 i.e 28 pixel heaigh and 28 pixel width grayscale image, thats why shape of each image should be 28 X 28 shape."
   ]
  },
  {
   "cell_type": "code",
   "execution_count": 11,
   "id": "f47afbf7",
   "metadata": {
    "execution": {
     "iopub.execute_input": "2022-06-23T12:32:14.789890Z",
     "iopub.status.busy": "2022-06-23T12:32:14.789494Z",
     "iopub.status.idle": "2022-06-23T12:32:14.795908Z",
     "shell.execute_reply": "2022-06-23T12:32:14.794890Z"
    },
    "papermill": {
     "duration": 0.023301,
     "end_time": "2022-06-23T12:32:14.798264",
     "exception": false,
     "start_time": "2022-06-23T12:32:14.774963",
     "status": "completed"
    },
    "tags": []
   },
   "outputs": [],
   "source": [
    "X_train = X_train.reshape(-1,28,28,1)\n",
    "X_test = X_test.reshape(-1,28,28,1)\n",
    "test_df = test_df.reshape(-1,28,28,1)"
   ]
  },
  {
   "cell_type": "code",
   "execution_count": 12,
   "id": "8f55c767",
   "metadata": {
    "execution": {
     "iopub.execute_input": "2022-06-23T12:32:14.825747Z",
     "iopub.status.busy": "2022-06-23T12:32:14.824654Z",
     "iopub.status.idle": "2022-06-23T12:32:14.831874Z",
     "shell.execute_reply": "2022-06-23T12:32:14.830217Z"
    },
    "papermill": {
     "duration": 0.023771,
     "end_time": "2022-06-23T12:32:14.834332",
     "exception": false,
     "start_time": "2022-06-23T12:32:14.810561",
     "status": "completed"
    },
    "tags": []
   },
   "outputs": [
    {
     "name": "stdout",
     "output_type": "stream",
     "text": [
      "X_train: (31500, 28, 28, 1)\n",
      "X_test: (10500, 28, 28, 1)\n",
      "test_df: (28000, 28, 28, 1)\n"
     ]
    }
   ],
   "source": [
    "print(\"X_train:\",X_train.shape)\n",
    "print(\"X_test:\",X_test.shape)\n",
    "print(\"test_df:\",test_df.shape)"
   ]
  },
  {
   "cell_type": "markdown",
   "id": "05ab31ca",
   "metadata": {
    "papermill": {
     "duration": 0.013157,
     "end_time": "2022-06-23T12:32:14.859830",
     "exception": false,
     "start_time": "2022-06-23T12:32:14.846673",
     "status": "completed"
    },
    "tags": []
   },
   "source": [
    "Visualizing some images with matplotlib"
   ]
  },
  {
   "cell_type": "code",
   "execution_count": 13,
   "id": "fcaf4e5e",
   "metadata": {
    "execution": {
     "iopub.execute_input": "2022-06-23T12:32:14.887870Z",
     "iopub.status.busy": "2022-06-23T12:32:14.886648Z",
     "iopub.status.idle": "2022-06-23T12:32:16.281683Z",
     "shell.execute_reply": "2022-06-23T12:32:16.280909Z"
    },
    "papermill": {
     "duration": 1.411249,
     "end_time": "2022-06-23T12:32:16.283858",
     "exception": false,
     "start_time": "2022-06-23T12:32:14.872609",
     "status": "completed"
    },
    "tags": []
   },
   "outputs": [
    {
     "data": {
      "image/png": "[encoded data removed]",
      "text/plain": [
       "<Figure size 432x288 with 1 Axes>"
      ]
     },
     "metadata": {
      "needs_background": "light"
     },
     "output_type": "display_data"
    },
    {
     "data": {
      "image/png": "[encoded data removed]",
      "text/plain": [
       "<Figure size 432x288 with 1 Axes>"
      ]
     },
     "metadata": {
      "needs_background": "light"
     },
     "output_type": "display_data"
    },
    {
     "data": {
      "image/png": "[encoded data removed]",
      "text/plain": [
       "<Figure size 432x288 with 1 Axes>"
      ]
     },
     "metadata": {
      "needs_background": "light"
     },
     "output_type": "display_data"
    },
    {
     "data": {
      "image/png": "[encoded data removed]",
      "text/plain": [
       "<Figure size 432x288 with 1 Axes>"
      ]
     },
     "metadata": {
      "needs_background": "light"
     },
     "output_type": "display_data"
    },
    {
     "data": {
      "image/png": "[encoded data removed]",
      "text/plain": [
       "<Figure size 432x288 with 1 Axes>"
      ]
     },
     "metadata": {
      "needs_background": "light"
     },
     "output_type": "display_data"
    },
    {
     "data": {
      "image/png": "[encoded data removed]",
      "text/plain": [
       "<Figure size 432x288 with 1 Axes>"
      ]
     },
     "metadata": {
      "needs_background": "light"
     },
     "output_type": "display_data"
    },
    {
     "data": {
      "image/png": "[encoded data removed]",
      "text/plain": [
       "<Figure size 432x288 with 1 Axes>"
      ]
     },
     "metadata": {
      "needs_background": "light"
     },
     "output_type": "display_data"
    },
    {
     "data": {
      "image/png": "[encoded data removed]",
      "text/plain": [
       "<Figure size 432x288 with 1 Axes>"
      ]
     },
     "metadata": {
      "needs_background": "light"
     },
     "output_type": "display_data"
    },
    {
     "data": {
      "image/png": "[encoded data removed]",
      "text/plain": [
       "<Figure size 432x288 with 1 Axes>"
      ]
     },
     "metadata": {
      "needs_background": "light"
     },
     "output_type": "display_data"
    },
    {
     "data": {
      "image/png": "[encoded data removed]",
      "text/plain": [
       "<Figure size 432x288 with 1 Axes>"
      ]
     },
     "metadata": {
      "needs_background": "light"
     },
     "output_type": "display_data"
    }
   ],
   "source": [
    "for i in range(10):\n",
    "    plt.imshow(X_train[i])\n",
    "    plt.title(y_train[i],fontdict={'fontsize':30})\n",
    "    plt.show()"
   ]
  },
  {
   "cell_type": "markdown",
   "id": "234d78a6",
   "metadata": {
    "papermill": {
     "duration": 0.014654,
     "end_time": "2022-06-23T12:32:16.313638",
     "exception": false,
     "start_time": "2022-06-23T12:32:16.298984",
     "status": "completed"
    },
    "tags": []
   },
   "source": [
    "# Building a neural network model"
   ]
  },
  {
   "cell_type": "markdown",
   "id": "7faaf572",
   "metadata": {
    "papermill": {
     "duration": 0.015068,
     "end_time": "2022-06-23T12:32:16.343607",
     "exception": false,
     "start_time": "2022-06-23T12:32:16.328539",
     "status": "completed"
    },
    "tags": []
   },
   "source": [
    "creating a sequntial model"
   ]
  },
  {
   "cell_type": "code",
   "execution_count": 14,
   "id": "a91c2cec",
   "metadata": {
    "execution": {
     "iopub.execute_input": "2022-06-23T12:32:16.376287Z",
     "iopub.status.busy": "2022-06-23T12:32:16.375040Z",
     "iopub.status.idle": "2022-06-23T12:32:16.439785Z",
     "shell.execute_reply": "2022-06-23T12:32:16.438315Z"
    },
    "papermill": {
     "duration": 0.083685,
     "end_time": "2022-06-23T12:32:16.442228",
     "exception": false,
     "start_time": "2022-06-23T12:32:16.358543",
     "status": "completed"
    },
    "tags": []
   },
   "outputs": [],
   "source": [
    "model = Sequential()"
   ]
  },
  {
   "cell_type": "markdown",
   "id": "d2e03b23",
   "metadata": {
    "papermill": {
     "duration": 0.013885,
     "end_time": "2022-06-23T12:32:16.470483",
     "exception": false,
     "start_time": "2022-06-23T12:32:16.456598",
     "status": "completed"
    },
    "tags": []
   },
   "source": [
    "adding layer to sequential model"
   ]
  },
  {
   "cell_type": "code",
   "execution_count": 15,
   "id": "14a23a36",
   "metadata": {
    "execution": {
     "iopub.execute_input": "2022-06-23T12:32:16.502437Z",
     "iopub.status.busy": "2022-06-23T12:32:16.501721Z",
     "iopub.status.idle": "2022-06-23T12:32:16.675489Z",
     "shell.execute_reply": "2022-06-23T12:32:16.674263Z"
    },
    "papermill": {
     "duration": 0.192633,
     "end_time": "2022-06-23T12:32:16.677987",
     "exception": false,
     "start_time": "2022-06-23T12:32:16.485354",
     "status": "completed"
    },
    "tags": []
   },
   "outputs": [
    {
     "name": "stdout",
     "output_type": "stream",
     "text": [
      "Model: \"sequential\"\n",
      "_________________________________________________________________\n",
      " Layer (type)                Output Shape              Param #   \n",
      "=================================================================\n",
      " conv2d (Conv2D)             (None, 28, 28, 32)        832       \n",
      "                                                                 \n",
      " max_pooling2d (MaxPooling2D  (None, 14, 14, 32)       0         \n",
      " )                                                               \n",
      "                                                                 \n",
      " conv2d_1 (Conv2D)           (None, 14, 14, 64)        18496     \n",
      "                                                                 \n",
      " max_pooling2d_1 (MaxPooling  (None, 7, 7, 64)         0         \n",
      " 2D)                                                             \n",
      "                                                                 \n",
      " conv2d_2 (Conv2D)           (None, 7, 7, 128)         73856     \n",
      "                                                                 \n",
      " max_pooling2d_2 (MaxPooling  (None, 4, 4, 128)        0         \n",
      " 2D)                                                             \n",
      "                                                                 \n",
      " conv2d_3 (Conv2D)           (None, 4, 4, 128)         147584    \n",
      "                                                                 \n",
      " max_pooling2d_3 (MaxPooling  (None, 2, 2, 128)        0         \n",
      " 2D)                                                             \n",
      "                                                                 \n",
      " flatten (Flatten)           (None, 512)               0         \n",
      "                                                                 \n",
      " dense (Dense)               (None, 256)               131328    \n",
      "                                                                 \n",
      " dropout (Dropout)           (None, 256)               0         \n",
      "                                                                 \n",
      " dense_1 (Dense)             (None, 128)               32896     \n",
      "                                                                 \n",
      " dropout_1 (Dropout)         (None, 128)               0         \n",
      "                                                                 \n",
      " dense_2 (Dense)             (None, 64)                8256      \n",
      "                                                                 \n",
      " dropout_2 (Dropout)         (None, 64)                0         \n",
      "                                                                 \n",
      " dense_3 (Dense)             (None, 10)                650       \n",
      "                                                                 \n",
      "=================================================================\n",
      "Total params: 413,898\n",
      "Trainable params: 413,898\n",
      "Non-trainable params: 0\n",
      "_________________________________________________________________\n"
     ]
    }
   ],
   "source": [
    "# adding convolutional2d layer with kernal size i.e feature detector size (5,5) and\n",
    "# filters i.e no. of filters or feature detectors.\n",
    "model.add(Conv2D(filters=32,kernel_size=(5,5),activation='relu',input_shape=[28,28,1],padding='same'))\n",
    "\n",
    "\n",
    "model.add(MaxPool2D(padding='same')) # adding Maxpool2D layer for pooling, with pool size of (2,2)\n",
    "\n",
    "model.add(Conv2D(filters=64,kernel_size=(3,3),activation='relu',padding='same'))\n",
    "model.add(MaxPool2D(padding='same'))\n",
    "\n",
    "model.add(Conv2D(filters=128,kernel_size=(3,3),activation='relu',padding='same'))\n",
    "model.add(MaxPool2D(padding='same'))\n",
    "\n",
    "model.add(Conv2D(filters=128,kernel_size=(3,3),activation='relu',padding='same'))\n",
    "model.add(MaxPool2D(padding='same'))\n",
    "\n",
    "# Now we have to flatten our pooled feature to column vector, The reason we do \n",
    "# this is that we're going to need to insert this data into an artificial neural \n",
    "#network later on.\n",
    "model.add(Flatten())\n",
    "\n",
    "# Now add Dense layer to Sequential model and use this flatten features as input \n",
    "model.add(Dense(256,activation='relu'))\n",
    "model.add(Dropout(0.5))\n",
    "model.add(Dense(128,activation='relu'))\n",
    "model.add(Dropout(0.5))\n",
    "model.add(Dense(64,activation='relu'))\n",
    "model.add(Dropout(0.5))\n",
    "\n",
    "# Add last output generating layer in our model\n",
    "model.add(Dense(10,activation='softmax'))\n",
    "\n",
    "# getting model summary\n",
    "model.summary()"
   ]
  },
  {
   "cell_type": "markdown",
   "id": "e7c758fa",
   "metadata": {
    "papermill": {
     "duration": 0.017458,
     "end_time": "2022-06-23T12:32:16.710214",
     "exception": false,
     "start_time": "2022-06-23T12:32:16.692756",
     "status": "completed"
    },
    "tags": []
   },
   "source": [
    "creating early stopping"
   ]
  },
  {
   "cell_type": "code",
   "execution_count": 16,
   "id": "e7759644",
   "metadata": {
    "execution": {
     "iopub.execute_input": "2022-06-23T12:32:16.743567Z",
     "iopub.status.busy": "2022-06-23T12:32:16.743192Z",
     "iopub.status.idle": "2022-06-23T12:32:16.748859Z",
     "shell.execute_reply": "2022-06-23T12:32:16.747738Z"
    },
    "papermill": {
     "duration": 0.025616,
     "end_time": "2022-06-23T12:32:16.750863",
     "exception": false,
     "start_time": "2022-06-23T12:32:16.725247",
     "status": "completed"
    },
    "tags": []
   },
   "outputs": [],
   "source": [
    "es = EarlyStopping(monitor='val_loss',patience=3,mode='min')"
   ]
  },
  {
   "cell_type": "markdown",
   "id": "b9238d09",
   "metadata": {
    "papermill": {
     "duration": 0.014554,
     "end_time": "2022-06-23T12:32:16.780873",
     "exception": false,
     "start_time": "2022-06-23T12:32:16.766319",
     "status": "completed"
    },
    "tags": []
   },
   "source": [
    "# Compiling Model"
   ]
  },
  {
   "cell_type": "code",
   "execution_count": 17,
   "id": "3e8103d2",
   "metadata": {
    "execution": {
     "iopub.execute_input": "2022-06-23T12:32:16.813623Z",
     "iopub.status.busy": "2022-06-23T12:32:16.813008Z",
     "iopub.status.idle": "2022-06-23T12:32:16.826674Z",
     "shell.execute_reply": "2022-06-23T12:32:16.825925Z"
    },
    "papermill": {
     "duration": 0.032639,
     "end_time": "2022-06-23T12:32:16.829126",
     "exception": false,
     "start_time": "2022-06-23T12:32:16.796487",
     "status": "completed"
    },
    "tags": []
   },
   "outputs": [],
   "source": [
    "model.compile(optimizer='adam',loss='sparse_categorical_crossentropy',metrics=['accuracy'])"
   ]
  },
  {
   "cell_type": "markdown",
   "id": "0de0942c",
   "metadata": {
    "papermill": {
     "duration": 0.014583,
     "end_time": "2022-06-23T12:32:16.858683",
     "exception": false,
     "start_time": "2022-06-23T12:32:16.844100",
     "status": "completed"
    },
    "tags": []
   },
   "source": [
    "# Training The Model"
   ]
  },
  {
   "cell_type": "code",
   "execution_count": 18,
   "id": "bbb8861b",
   "metadata": {
    "execution": {
     "iopub.execute_input": "2022-06-23T12:32:16.891556Z",
     "iopub.status.busy": "2022-06-23T12:32:16.890947Z",
     "iopub.status.idle": "2022-06-23T12:36:49.916546Z",
     "shell.execute_reply": "2022-06-23T12:36:49.915239Z"
    },
    "papermill": {
     "duration": 273.059908,
     "end_time": "2022-06-23T12:36:49.934407",
     "exception": false,
     "start_time": "2022-06-23T12:32:16.874499",
     "status": "completed"
    },
    "tags": []
   },
   "outputs": [
    {
     "name": "stdout",
     "output_type": "stream",
     "text": [
      "Epoch 1/50\n",
      "247/247 - 39s - loss: 0.9793 - accuracy: 0.6525 - val_loss: 0.1362 - val_accuracy: 0.9638 - 39s/epoch - 157ms/step\n",
      "Epoch 2/50\n",
      "247/247 - 32s - loss: 0.1913 - accuracy: 0.9544 - val_loss: 0.0739 - val_accuracy: 0.9821 - 32s/epoch - 128ms/step\n",
      "Epoch 3/50\n",
      "247/247 - 31s - loss: 0.1192 - accuracy: 0.9734 - val_loss: 0.0735 - val_accuracy: 0.9829 - 31s/epoch - 124ms/step\n",
      "Epoch 4/50\n",
      "247/247 - 31s - loss: 0.0897 - accuracy: 0.9803 - val_loss: 0.0489 - val_accuracy: 0.9887 - 31s/epoch - 125ms/step\n",
      "Epoch 5/50\n",
      "247/247 - 31s - loss: 0.0754 - accuracy: 0.9844 - val_loss: 0.0521 - val_accuracy: 0.9887 - 31s/epoch - 127ms/step\n",
      "Epoch 6/50\n",
      "247/247 - 30s - loss: 0.0691 - accuracy: 0.9857 - val_loss: 0.0555 - val_accuracy: 0.9872 - 30s/epoch - 123ms/step\n",
      "Epoch 7/50\n",
      "247/247 - 30s - loss: 0.0535 - accuracy: 0.9890 - val_loss: 0.0571 - val_accuracy: 0.9888 - 30s/epoch - 123ms/step\n"
     ]
    },
    {
     "data": {
      "text/plain": [
       "<keras.callbacks.History at 0x1cc3fda0a60>"
      ]
     },
     "execution_count": 18,
     "metadata": {},
     "output_type": "execute_result"
    }
   ],
   "source": [
    "model.fit(X_train,y_train,verbose=2,validation_data=(X_test,y_test),batch_size=128,epochs=50,callbacks=[es])"
   ]
  },
  {
   "cell_type": "code",
   "execution_count": 19,
   "id": "2233e60a",
   "metadata": {},
   "outputs": [],
   "source": [
    "model.save('model.h5')"
   ]
  }
 ],
 "metadata": {
  "kernelspec": {
   "display_name": "Python 3.9.1 64-bit",
   "language": "python",
   "name": "python3"
  },
  "language_info": {
   "codemirror_mode": {
    "name": "ipython",
    "version": 3
   },
   "file_extension": ".py",
   "mimetype": "text/x-python",
   "name": "python",
   "nbconvert_exporter": "python",
   "pygments_lexer": "ipython3",
   "version": "3.9.1"
  },
  "papermill": {
   "default_parameters": {},
   "duration": 315.02603,
   "end_time": "2022-06-23T12:37:03.660086",
   "environment_variables": {},
   "exception": null,
   "input_path": "__notebook__.ipynb",
   "output_path": "__notebook__.ipynb",
   "parameters": {},
   "start_time": "2022-06-23T12:31:48.634056",
   "version": "2.3.4"
  },
  "vscode": {
   "interpreter": {
    "hash": "e933d9bb2b9fd5e976ca07887798a12401f328df16c9eaef4b65df6e8c84b261"
   }
  }
 },
 "nbformat": 4,
 "nbformat_minor": 5
}
